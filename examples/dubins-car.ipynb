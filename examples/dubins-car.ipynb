{
 "cells": [
  {
   "attachments": {},
   "cell_type": "markdown",
   "metadata": {},
   "source": [
    "# Dubins Car\n",
    "\n",
    "The Dubins car problem is non-holonomic, and while each configuration is possible, the manner in which those configurations can be reached is reduced. Notably we have $$\\dot y \\cos \\theta - \\dot x \\sin \\theta = 0$$\n",
    "\n",
    "Hence, unlike for the other examples we cannot rely on the linearized LQR controller to act as performance / nominal controller. Instead we solve the reachability problem for reaching a target (without accounting for the obstacle avoidance) and use the found policy as the performance policy."
   ]
  },
  {
   "attachments": {},
   "cell_type": "markdown",
   "metadata": {},
   "source": [
    "For hybrid example, the car is expected to reach a point and then another point, while avoiding two obstacles.\n",
    "There are two different dynamics on the road, with different control limits."
   ]
  },
  {
   "cell_type": "code",
   "execution_count": 37,
   "metadata": {},
   "outputs": [],
   "source": [
    "import matplotlib.pyplot as plt\n",
    "import hj_reachability as hj\n",
    "import jax.numpy as jnp\n",
    "import numpy as np\n",
    "import seaborn as sns\n",
    "import dubins_nominal_hjr_control as nominal_hjr_control\n",
    "import matplotlib\n",
    "import matplotlib.animation as anim\n",
    "import os"
   ]
  },
  {
   "cell_type": "code",
   "execution_count": 9,
   "metadata": {},
   "outputs": [],
   "source": [
    "sys.path.insert(1, '../lib')\n",
    "import refine_cbfs\n",
    "import experiment_wrapper\n",
    "import cbf_opt\n",
    "from experiment_wrapper import RolloutTrajectory, TimeSeriesExperiment, StateSpaceExperiment\n",
    "from cbf_opt import ControlAffineDynamics, ControlAffineCBF, ControlAffineASIF"
   ]
  },
  {
   "cell_type": "code",
   "execution_count": 10,
   "metadata": {},
   "outputs": [],
   "source": [
    "matplotlib.rcParams.update({\n",
    "    \"pgf.texsystem\": \"pdflatex\",\n",
    "    'font.family': 'serif',\n",
    "    'font.size': '80',\n",
    "    'text.usetex': False,   # Toggle to true for official LaTeX output\n",
    "    'pgf.rcfonts': False,\n",
    "    'lines.linewidth': 6.,\n",
    "})\n",
    "\n",
    "params = {'axes.labelsize': 28,'axes.titlesize':28, 'font.size': 28, 'legend.fontsize': 28, \n",
    "          'xtick.labelsize': 28, 'ytick.labelsize': 28, 'lines.linewidth': 5}\n",
    "matplotlib.rcParams.update(params)"
   ]
  },
  {
   "attachments": {},
   "cell_type": "markdown",
   "metadata": {},
   "source": [
    "## Setup Problem (dynamics, environment and CBF)"
   ]
  },
  {
   "attachments": {},
   "cell_type": "markdown",
   "metadata": {},
   "source": [
    "### Parameter values"
   ]
  },
  {
   "attachments": {},
   "cell_type": "markdown",
   "metadata": {},
   "source": [
    "Dynamics properties"
   ]
  },
  {
   "cell_type": "code",
   "execution_count": 15,
   "metadata": {},
   "outputs": [],
   "source": [
    "# original system cannot control velocity, we introduce acceleration in the new system.\n",
    "\n",
    "use_new_system =  True # choose new system or not\n",
    "\n",
    "dubins_vel = 1.0  # m / s \n",
    "if new_system:\n",
    "    umin_dry = np.array([-0.5, -2.])  # rad / s and m^2 / s\n",
    "    umax_dry = np.array([0.5, 2.]) \n",
    "    umin_wet = np.array([-0.2, -0.5])\n",
    "    umax_wet = np.array([0.2, 0.5])\n",
    "    file_name = '_new'\n",
    "else:\n",
    "    umin_dry = np.array([-0.5])  # rad / s\n",
    "    umax_dry = np.array([0.5])\n",
    "    file_name = ''\n",
    "dt = 0.05 # s"
   ]
  },
  {
   "attachments": {},
   "cell_type": "markdown",
   "metadata": {},
   "source": [
    "Constraint set of the problem. Two rectangular constraints in the $(x,y)$ space"
   ]
  },
  {
   "cell_type": "code",
   "execution_count": 12,
   "metadata": {},
   "outputs": [],
   "source": [
    "obstacle_center = np.array([[5.0, 5.0], [10.0, 5.0]])\n",
    "obstacle_length = np.array([2.0, 2.0])"
   ]
  },
  {
   "attachments": {},
   "cell_type": "markdown",
   "metadata": {},
   "source": [
    "### Dynamics"
   ]
  },
  {
   "attachments": {},
   "cell_type": "markdown",
   "metadata": {},
   "source": [
    "Dynamics of the Dubins car problem (control affine) in the format of `cbf_opt`\n",
    "\n",
    "`DubinsJNPDynamics` is required for usage with `hj_reachability` module"
   ]
  },
  {
   "cell_type": "code",
   "execution_count": 13,
   "metadata": {},
   "outputs": [],
   "source": [
    "# old system with fixed velocity, not used\n",
    "\n",
    "class DubinsDynamics(ControlAffineDynamics):\n",
    "    STATES = ['X', 'Y', 'THETA']\n",
    "    CONTROLS = ['OMEGA']\n",
    "    \n",
    "    def __init__(self, params, test = False, **kwargs):\n",
    "        params['n_dims'] = 3\n",
    "        params['control_dims'] = 1\n",
    "        params[\"periodic_dims\"] = [2]\n",
    "        self.v = params[\"v\"]\n",
    "        super().__init__(params, test, **kwargs)\n",
    "\n",
    "    def open_loop_dynamics(self, state, time=0.0):\n",
    "        f = np.zeros_like(state)\n",
    "        f[..., 0] = self.v * np.cos(state[..., 2])\n",
    "        f[..., 1] = self.v * np.sin(state[..., 2])\n",
    "        return f\n",
    "\n",
    "    def control_matrix(self, state, time=0.0):\n",
    "        B = np.repeat(np.zeros_like(state)[..., None], self.control_dims, axis=-1)\n",
    "        B[..., 2, 0] = 1\n",
    "        return B\n",
    "\n",
    "    def disturbance_jacobian(self, state, time=0.0):\n",
    "        return np.repeat(np.zeros_like(state)[..., None], 1, axis=-1)\n",
    "\n",
    "    def state_jacobian(self, state, control, time=0.0):\n",
    "        J = np.repeat(np.zeros_like(state)[..., None], self.n_dims, axis=-1)\n",
    "        J[..., 0, 2] = -self.v * np.sin(state[..., 2])\n",
    "        J[..., 1, 2] = self.v * np.cos(state[..., 2])\n",
    "        return J\n",
    "        \n",
    "class DubinsJNPDynamics(DubinsDynamics):\n",
    "    def open_loop_dynamics(self, state, time=0.0):\n",
    "        return jnp.array([self.v * jnp.cos(state[2]), self.v * jnp.sin(state[2]), 0])\n",
    "\n",
    "    def control_matrix(self, state, time=0.0):\n",
    "        return jnp.expand_dims(jnp.array([0, 0, 1]), axis=-1)\n",
    "\n",
    "    def disturbance_jacobian(self, state, time=0.0):\n",
    "        return jnp.expand_dims(jnp.zeros(3), axis=-1)\n",
    "\n",
    "    def state_jacobian(self, state, control, time=0.0):\n",
    "        return jnp.array([\n",
    "            [0, 0, -self.v * jnp.sin(state[2])],\n",
    "            [0, 0, self.v * jnp.cos(state[2])], \n",
    "            [0, 0, 0]])"
   ]
  },
  {
   "cell_type": "code",
   "execution_count": 14,
   "metadata": {},
   "outputs": [],
   "source": [
    "# we are using this new system\n",
    "\n",
    "class DubinsDynamicsNew(ControlAffineDynamics):\n",
    "    STATES = ['X', 'Y', 'THETA', 'VELOCITY']\n",
    "    CONTROLS = ['OMEGA', 'ACCELERATION']\n",
    "    \n",
    "    def __init__(self, params, test = False, **kwargs):\n",
    "        params['n_dims'] = 4\n",
    "        params['control_dims'] = 2\n",
    "        params[\"periodic_dims\"] = [2]\n",
    "        # self.v = params[\"v\"]\n",
    "        super().__init__(params, test, **kwargs)\n",
    "\n",
    "    def open_loop_dynamics(self, state, time=0.0):\n",
    "        f = np.zeros_like(state)\n",
    "        f[..., 0] = np.cos(state[..., 3]) * np.cos(state[..., 2])\n",
    "        f[..., 1] = np.cos(state[..., 3]) * np.sin(state[..., 2])\n",
    "        return f\n",
    "\n",
    "    def control_matrix(self, state, time=0.0):\n",
    "        B = np.repeat(np.zeros_like(state)[..., None], self.control_dims, axis=-1)\n",
    "        B[..., 2, 0] = 1\n",
    "        B[..., 3, 1] = 1\n",
    "        return B\n",
    "\n",
    "    def disturbance_jacobian(self, state, time=0.0):\n",
    "        return np.repeat(np.zeros_like(state)[..., None], 1, axis=-1)\n",
    "\n",
    "    def state_jacobian(self, state, control, time=0.0):\n",
    "        J = np.repeat(np.zeros_like(state)[..., None], self.n_dims, axis=-1)\n",
    "        J[..., 0, 2] = - np.cos(state[..., 3]) * np.sin(state[..., 2])\n",
    "        J[..., 1, 2] = np.cos(state[..., 3]) * np.cos(state[..., 2])\n",
    "        J[..., 0, 3] = - np.sin(state[..., 3]) * np.cos(state[..., 2])\n",
    "        J[..., 1, 3] = - np.sin(state[..., 3]) * np.sin(state[..., 2])\n",
    "        return J\n",
    "        \n",
    "class DubinsJNPDynamicsNew(DubinsDynamicsNew):\n",
    "    def open_loop_dynamics(self, state, time=0.0):\n",
    "        return jnp.array([jnp.cos(state[3]) * jnp.cos(state[2]), jnp.cos(state[3]) * jnp.sin(state[2]), 0, 0])\n",
    "\n",
    "    def control_matrix(self, state, time=0.0):\n",
    "        return jnp.array([[0, 0], [0, 0], [1, 0], [0, 1]])\n",
    "\n",
    "    def disturbance_jacobian(self, state, time=0.0):\n",
    "        return jnp.expand_dims(jnp.zeros(4), axis=-1)\n",
    "\n",
    "    def state_jacobian(self, state, control, time=0.0):\n",
    "        return jnp.array([\n",
    "            [0, 0, -jnp.cos(state[3]) * jnp.sin(state[2]), - jnp.sin(state[3]) * jnp.cos(state[2])],\n",
    "            [0, 0, jnp.cos(state[3]) * jnp.cos(state[2]), - jnp.sin(state[3]) * jnp.sin(state[2])], \n",
    "            [0, 0, 0, 0],\n",
    "            [0, 0, 0, 0]])"
   ]
  },
  {
   "cell_type": "code",
   "execution_count": 16,
   "metadata": {},
   "outputs": [],
   "source": [
    "if use_new_system:\n",
    "    dyn = DubinsDynamicsNew({\"v\": dubins_vel, \"dt\": dt}, test=True)\n",
    "    dyn_jnp = DubinsJNPDynamicsNew({\"v\": dubins_vel, \"dt\": dt}, test=True)\n",
    "else:\n",
    "    dyn = DubinsDynamics({\"v\": dubins_vel, \"dt\": dt}, test=True)\n",
    "    dyn_jnp = DubinsJNPDynamics({\"v\": dubins_vel, \"dt\": dt}, test=True)"
   ]
  },
  {
   "attachments": {},
   "cell_type": "markdown",
   "metadata": {},
   "source": [
    "### Constructing initial local CBFs"
   ]
  },
  {
   "cell_type": "code",
   "execution_count": 17,
   "metadata": {},
   "outputs": [],
   "source": [
    "class DubinsCBF(ControlAffineCBF):\n",
    "    def __init__(self, dynamics: DubinsDynamics, params: dict = dict(), **kwargs) -> None:\n",
    "        self.center = params[\"center\"]\n",
    "        self.r = params[\"r\"]\n",
    "        super().__init__(dynamics, params, **kwargs)\n",
    "\n",
    "    def vf(self, state, time=0.0):\n",
    "        vf_value = (state[..., 0] - self.center[0]) ** 2 + (state[..., 1] - self.center[1]) ** 2 - self.r ** 2\n",
    "        return vf_value\n",
    "\n",
    "    def _grad_vf(self, state, time=0.0):\n",
    "        dvf_dx = np.zeros_like(state)\n",
    "        dvf_dx[..., 0] = 2 * (state[..., 0] - self.center[0])\n",
    "        dvf_dx[..., 1] = 2 * (state[..., 1] - self.center[1])\n",
    "        return dvf_dx"
   ]
  },
  {
   "cell_type": "code",
   "execution_count": 21,
   "metadata": {},
   "outputs": [],
   "source": [
    "# dry CBF and wet CBF\n",
    "\n",
    "dubins_cbf_dry = DubinsCBF(dyn, {\"center\": obstacle_center[0, :], \"r\": np.sqrt(np.max(obstacle_length))}, test=True)\n",
    "dubins_cbf_wet = DubinsCBF(dyn, {\"center\": obstacle_center[1, :], \"r\": np.sqrt(np.max(obstacle_length))}, test=True)"
   ]
  },
  {
   "attachments": {},
   "cell_type": "markdown",
   "metadata": {},
   "source": [
    "### Environment\n",
    "Defining the discretized state space and the location of obstacles"
   ]
  },
  {
   "cell_type": "code",
   "execution_count": 22,
   "metadata": {},
   "outputs": [],
   "source": [
    "dyn_hjr_dry = refine_cbfs.dynamics.HJControlAffineDynamics(dyn_jnp, control_space=hj.sets.Box(jnp.array(umin_dry), jnp.array(umax_dry)))\n",
    "dyn_hjr_wet = refine_cbfs.dynamics.HJControlAffineDynamics(dyn_jnp, control_space=hj.sets.Box(jnp.array(umin_wet), jnp.array(umax_wet)))\n",
    "\n",
    "low_bound = -5.\n",
    "upp_bound = 20.\n",
    "resolution_bound = int(201 / 4)\n",
    "\n",
    "if use_new_system:\n",
    "    state_domain = hj.sets.Box(lo=jnp.array([low_bound, low_bound, -jnp.pi, -5.]), hi=jnp.array([upp_bound, upp_bound, jnp.pi, 5.]))\n",
    "    grid_resolution = (resolution_bound, resolution_bound, 41, 20)\n",
    "    grid = hj.Grid.from_lattice_parameters_and_boundary_conditions(state_domain, grid_resolution, periodic_dims=2)\n",
    "else:\n",
    "    state_domain = hj.sets.Box(lo=jnp.array([low_bound, low_bound, -jnp.pi]), hi=jnp.array([upp_bound, upp_bound, jnp.pi]))\n",
    "    grid_resolution = (resolution_bound, resolution_bound, 81)\n",
    "    grid = hj.Grid.from_lattice_parameters_and_boundary_conditions(state_domain, grid_resolution, periodic_dims=2)    "
   ]
  },
  {
   "cell_type": "code",
   "execution_count": 35,
   "metadata": {},
   "outputs": [],
   "source": [
    "def constraint_set(state):\n",
    "    \"\"\"A real-valued function s.t. the zero-superlevel set is the safe set\n",
    "\n",
    "    Args:\n",
    "        state : An unbatched (!) state vector, an array of shape `(4,)` containing `[y, v_y, phi, omega]`.\n",
    "\n",
    "    Returns:\n",
    "        A scalar, positive iff the state is in the safe set\n",
    "    \"\"\"\n",
    "    length = obstacle_length\n",
    "    bottom_left = jnp.array(obstacle_center[0, :] - obstacle_length / 2)\n",
    "    value_dry_obstacle = - jnp.min(jnp.array([state[0] - bottom_left[0], bottom_left[0] + length[0] - state[0], \n",
    "                               state[1] - bottom_left[1], bottom_left[1] + length[1] - state[1]]))\n",
    "    bottom_right = jnp.array(obstacle_center[1, :] - obstacle_length / 2)\n",
    "    value_wet_obstacle = - jnp.min(jnp.array([state[0] - bottom_right[0], bottom_right[0] + length[0] - state[0], \n",
    "                               state[1] - bottom_right[1], bottom_right[1] + length[1] - state[1]]))\n",
    "    \n",
    "    return value_dry_obstacle, value_wet_obstacle\n",
    "\n",
    "obstacle_dry, obstacle_wet = hj.utils.multivmap(constraint_set, jnp.arange(grid.ndim))(grid.states)  # constraint l(x)\n",
    "obstacle_all = jnp.minimum(obstacle_dry, obstacle_wet)\n",
    "assert obstacle_dry.shape == obstacle_wet.shape, \"Double check the obstacles computation\""
   ]
  },
  {
   "attachments": {},
   "cell_type": "markdown",
   "metadata": {},
   "source": [
    "## Start to find valid local CBFs using Dynamic Programming"
   ]
  },
  {
   "cell_type": "code",
   "execution_count": 44,
   "metadata": {},
   "outputs": [],
   "source": [
    "# time setup\n",
    "time = 0.\n",
    "target_time = -10.\n",
    "times = jnp.linspace(time, target_time, 101)\n",
    "\n",
    "# data saving path\n",
    "dataset_path = \"../dataset/dubins_data\"\n",
    "if not os.path.isdir(dataset_path):\n",
    "    os.makedirs(dataset_path)"
   ]
  },
  {
   "cell_type": "code",
   "execution_count": 43,
   "metadata": {},
   "outputs": [
    {
     "name": "stderr",
     "output_type": "stream",
     "text": [
      "100%|##########| 10.0000/10.0 [01:39<00:00,  9.99s/sim_s]\n",
      "100%|##########| 10.0000/10.0 [01:38<00:00,  9.90s/sim_s]\n"
     ]
    }
   ],
   "source": [
    "# computing local dry CBF values, takes around 3 mins on desktop\n",
    "\n",
    "# initialization\n",
    "dubins_tabular_cbf_dry = refine_cbfs.TabularControlAffineCBF(dyn, dict(), grid=grid)\n",
    "dubins_tabular_cbf_dry.tabularize_cbf(dubins_cbf_dry)\n",
    "\n",
    "# backward reach setting\n",
    "backwards_reachable_tube = lambda obstacle: (lambda t, x: jnp.minimum(x, obstacle))\n",
    "solver_settings_dry = hj.SolverSettings.with_accuracy(\"high\", value_postprocessor=backwards_reachable_tube(obstacle_dry))\n",
    "\n",
    "# solving\n",
    "init_value_dry = dubins_tabular_cbf_dry.vf_table \n",
    "target_values_hjr_dry = hj.solve(solver_settings_dry, dyn_hjr_dry, grid, times, obstacle_dry)\n",
    "target_values_dry = hj.solve(solver_settings_dry, dyn_hjr_dry, grid, times, init_value_dry)\n",
    "\n",
    "# saving\n",
    "np.save(dataset_path + \"/target_values_hjr_dry\"+file_name+\".npy\", target_values_hjr_dry)\n",
    "np.save(dataset_path + \"/target_values_dry\"+file_name+\".npy\", target_values_dry)"
   ]
  },
  {
   "cell_type": "code",
   "execution_count": 45,
   "metadata": {},
   "outputs": [
    {
     "name": "stderr",
     "output_type": "stream",
     "text": [
      "100%|##########| 10.0000/10.0 [00:51<00:00,  5.10s/sim_s]\n",
      "100%|##########| 10.0000/10.0 [00:49<00:00,  4.94s/sim_s]\n"
     ]
    }
   ],
   "source": [
    "# computing local wet CBF values, takes around 2 mins on desktop\n",
    "\n",
    "dubins_tabular_cbf_wet = refine_cbfs.TabularControlAffineCBF(dyn, dict(), grid=grid)\n",
    "dubins_tabular_cbf_wet.tabularize_cbf(dubins_cbf_wet)\n",
    "\n",
    "solver_settings_wet = hj.SolverSettings.with_accuracy(\"high\", value_postprocessor=backwards_reachable_tube(obstacle_wet))\n",
    "init_value_wet = dubins_tabular_cbf_wet.vf_table \n",
    "\n",
    "target_values_hjr_wet = hj.solve(solver_settings_wet, dyn_hjr_wet, grid, times, obstacle_wet)\n",
    "target_values_wet = hj.solve(solver_settings_wet, dyn_hjr_wet, grid, times, init_value_wet)\n",
    "\n",
    "np.save(dataset_path + \"/target_values_hjr_wet\"+file_name+\".npy\", target_values_hjr_wet)\n",
    "np.save(dataset_path + \"/target_values_wet\"+file_name+\".npy\", target_values_wet)"
   ]
  },
  {
   "cell_type": "code",
   "execution_count": 46,
   "metadata": {},
   "outputs": [],
   "source": [
    "# if you have computed values before, then just read them\n",
    "\n",
    "target_values_wet = jnp.load(dataset_path + \"/target_values_wet\"+file_name+\".npy\")\n",
    "target_values_hjr_wet = jnp.load(dataset_path + \"/target_values_hjr_wet\"+file_name+\".npy\")\n",
    "target_values_dry = jnp.load(dataset_path + \"/target_values_dry\"+file_name+\".npy\")\n",
    "target_values_hjr_dry = jnp.load(dataset_path + \"/target_values_hjr_dry\"+file_name+\".npy\")"
   ]
  },
  {
   "cell_type": "code",
   "execution_count": 47,
   "metadata": {},
   "outputs": [],
   "source": [
    "# Now write computed CBF values in the 'refine_cbfs' format\n",
    "\n",
    "tabular_cbf_dry = refine_cbfs.TabularControlAffineCBF(dyn, grid=grid)\n",
    "tabular_cbf_dry.vf_table = np.array(target_values_dry[-1])\n",
    "\n",
    "tabular_cbf_wet = refine_cbfs.TabularControlAffineCBF(dyn, grid=grid)\n",
    "tabular_cbf_wet.vf_table = np.array(target_values_wet[-1])"
   ]
  },
  {
   "cell_type": "code",
   "execution_count": 50,
   "metadata": {},
   "outputs": [],
   "source": [
    "# define switching conditions\n",
    "\n",
    "switch_position = 8.0\n",
    "switch_radius = .2\n",
    "switch = abs(grid.states[..., 0] - switch_position) - switch_radius\n",
    "\n",
    "# the intersection of safe dry and unsafe ice regions\n",
    "unsafe_wet_values = target_values_dry * target_values_wet\n",
    "safe_switch = jnp.maximum(switch, unsafe_wet_values[-1])\n",
    "new_obstacle = jnp.minimum(safe_switch, target_values_dry[-1])\n",
    "\n",
    "assert switch.shape == safe_switch.shape and switch.shape == new_obstacle.shape, \"Double check the shapes of switching area and new obstacles\""
   ]
  },
  {
   "cell_type": "markdown",
   "metadata": {},
   "source": [
    "# Start to refine the initial local dry CBF to be aware of safe switching"
   ]
  },
  {
   "cell_type": "code",
   "execution_count": 51,
   "metadata": {},
   "outputs": [],
   "source": [
    "# initialization using initial dry CBF\n",
    "\n",
    "refined_cbf = refine_cbfs.TabularControlAffineCBF(dyn, grid=grid)\n",
    "refined_cbf_jnp = refine_cbfs.TabularControlAffineCBF(dyn, grid=grid)\n",
    "\n",
    "refined_cbf.vf_table = np.array(target_values_dry[-1])\n",
    "refined_cbf_jnp.vf_table = target_values_dry[-1]"
   ]
  },
  {
   "cell_type": "code",
   "execution_count": 52,
   "metadata": {},
   "outputs": [
    {
     "name": "stderr",
     "output_type": "stream",
     "text": [
      "100%|##########| 10.0000/10.0 [01:40<00:00, 10.06s/sim_s]\n"
     ]
    }
   ],
   "source": [
    "# solving, takes around 2 mins on desktop\n",
    "\n",
    "solver_settings = hj.SolverSettings.with_accuracy(\"high\", value_postprocessor=backwards_reachable_tube(new_obstacle))\n",
    "init_value_refine = refined_cbf.vf_table \n",
    "target_values_refined_dry = hj.solve(solver_settings, dyn_hjr_dry, grid, times, init_value_refine)\n",
    "\n",
    "np.save(dataset_path + \"/target_values_refined_dry\"+file_name+\".npy\", target_values_refined_dry)"
   ]
  },
  {
   "cell_type": "code",
   "execution_count": 53,
   "metadata": {},
   "outputs": [],
   "source": [
    "# if you have computed values before, then just read them\n",
    "\n",
    "target_values_refined_dry = jnp.load(dataset_path + \"/target_values_refined_dry\"+file_name+\".npy\")\n",
    "\n",
    "refined_cbf_hybrid = refine_cbfs.TabularControlAffineCBF(dyn, grid=grid)\n",
    "refined_cbf_hybrid.vf_table = np.array(target_values_refined_dry[-1])"
   ]
  },
  {
   "attachments": {},
   "cell_type": "markdown",
   "metadata": {},
   "source": [
    "## Running the experiment"
   ]
  },
  {
   "cell_type": "code",
   "execution_count": 55,
   "metadata": {},
   "outputs": [],
   "source": [
    "if use_new_system:\n",
    "    x0 = np.array([2, 5, np.pi / 3, 0.]) # initial state\n",
    "else:\n",
    "    x0 = np.array([2, 4, np.pi / 3])\n",
    "    \n",
    "n_sims_per_start = 1\n",
    "t_sim = 10 * 2.0\n",
    "target_height = 4.\n",
    "mid_target_position = 10.5"
   ]
  },
  {
   "attachments": {},
   "cell_type": "markdown",
   "metadata": {},
   "source": [
    "We use HJ reachability to setup the nominal controller"
   ]
  },
  {
   "cell_type": "code",
   "execution_count": 31,
   "metadata": {},
   "outputs": [
    {
     "name": "stderr",
     "output_type": "stream",
     "text": [
      "100%|##########| 30.0000/30.0 [00:50<00:00,  1.68s/sim_s]\n"
     ]
    }
   ],
   "source": [
    "target2 = np.array([mid_target_position , target_height, 0])\n",
    "\n",
    "opt_ctrl = nominal_hjr_control.NominalControlHJNP(dyn_hjr_dry, grid, final_time=-30, time_intervals=101, solver_accuracy=\"low\", \n",
    "                                                  target=target2, padding=jnp.array([.2, .2, jnp.pi / 6]))\n",
    "\n",
    "opt_ctrl.solve()\n",
    "np.save(\"../../../dataset/dubins/performance_policy_vfs_2\"+file_name+\".npy\", opt_ctrl.tv_vf)\n",
    "    \n",
    "nom_policy_tar2 = nominal_hjr_control.NominalPolicy(opt_ctrl)"
   ]
  },
  {
   "cell_type": "code",
   "execution_count": 32,
   "metadata": {},
   "outputs": [
    {
     "name": "stderr",
     "output_type": "stream",
     "text": [
      "100%|##########| 30.0000/30.0 [00:48<00:00,  1.63s/sim_s]\n"
     ]
    }
   ],
   "source": [
    "target3 = np.array([12, target_height, 0])\n",
    "\n",
    "opt_ctrl = nominal_hjr_control.NominalControlHJNP(dyn_hjr_dry, grid, final_time=-30, time_intervals=101, solver_accuracy=\"low\", \n",
    "                                                  target=target3, padding=jnp.array([.2, .2, jnp.pi / 6]))\n",
    "\n",
    "opt_ctrl.solve()\n",
    "np.save(\"../../../dataset/dubins/performance_policy_vfs_3\"+file_name+\".npy\", opt_ctrl.tv_vf)\n",
    "    \n",
    "nom_policy_tar3 = nominal_hjr_control.NominalPolicy(opt_ctrl)"
   ]
  },
  {
   "cell_type": "code",
   "execution_count": 33,
   "metadata": {},
   "outputs": [],
   "source": [
    "target1 = np.array([6, 7, 0])\n",
    "target2 = np.array([mid_target_position , target_height, 0])\n",
    "target3 = np.array([12, target_height, 0])\n",
    "\n",
    "\n",
    "with open(\"../../../dataset/dubins/performance_policy_vfs_2\"+file_name+\".npy\", \"rb\") as f:\n",
    "    opt_ctrl2 = nominal_hjr_control.NominalControlHJNP(dyn_hjr_dry, grid, final_time=-30, time_intervals=101, solver_accuracy=\"low\", \n",
    "                                                  target=target2, padding=jnp.array([.2, .2, jnp.pi / 6]))\n",
    "    opt_ctrl2.tv_vf = jnp.load(f)\n",
    "\n",
    "\n",
    "with open(\"../../../dataset/dubins/performance_policy_vfs_3\"+file_name+\".npy\", \"rb\") as f:\n",
    "    opt_ctrl3 = nominal_hjr_control.NominalControlHJNP(dyn_hjr_dry, grid, final_time=-30, time_intervals=101, solver_accuracy=\"low\", \n",
    "                                                  target=target3, padding=jnp.array([.2, .2, jnp.pi / 6]))\n",
    "    opt_ctrl3.tv_vf = jnp.load(f)\n",
    "\n",
    "nom_policy_tar2 = nominal_hjr_control.NominalPolicy(opt_ctrl2)\n",
    "nom_policy_tar3 = nominal_hjr_control.NominalPolicy(opt_ctrl3)   "
   ]
  },
  {
   "attachments": {},
   "cell_type": "markdown",
   "metadata": {},
   "source": [
    "### Setting up the safety filter"
   ]
  },
  {
   "cell_type": "code",
   "execution_count": 68,
   "metadata": {},
   "outputs": [],
   "source": [
    "alpha = lambda x: 1. * x\n",
    "# dubins_asif_tar1 = ControlAffineASIF(dyn, dubins_cbf_dry, alpha=alpha, nominal_policy=nom_policy_tar1)\n",
    "# dubins_asif_ws_tar1 = ControlAffineASIF(dyn, tabular_cbf_dry, alpha=alpha, nominal_policy=nom_policy_tar1, umin=umin_dry, umax=umax_dry)\n",
    "\n",
    "dubins_asif_tar2 = ControlAffineASIF(dyn, dubins_cbf_dry, alpha=alpha, nominal_policy=nom_policy_tar2)\n",
    "dubins_asif_ws_tar2 = ControlAffineASIF(dyn, tabular_cbf_dry, alpha=alpha, nominal_policy=nom_policy_tar2, umin=umin_dry, umax=umax_dry)\n",
    "\n",
    "dubins_asif_tar2_5 = ControlAffineASIF(dyn, dubins_cbf_dry, alpha=alpha, nominal_policy=nom_policy_tar3)\n",
    "dubins_asif_ws_tar2_5 = ControlAffineASIF(dyn, tabular_cbf_dry, alpha=alpha, nominal_policy=nom_policy_tar3, umin=umin_dry, umax=umax_dry)\n",
    "\n",
    "dubins_asif_tar3 = ControlAffineASIF(dyn, dubins_cbf_wet, alpha=alpha, nominal_policy=nom_policy_tar3)\n",
    "dubins_asif_ws_tar3 = ControlAffineASIF(dyn, tabular_cbf_wet, alpha=alpha, nominal_policy=nom_policy_tar3, umin=umin_wet, umax=umax_wet)\n",
    "\n",
    "dubins_asif_global_dry = ControlAffineASIF(dyn, dubins_cbf_wet, alpha=alpha, nominal_policy=nom_policy_tar3)\n",
    "dubins_asif_ws_global_dry = ControlAffineASIF(dyn, tabular_cbf_wet, alpha=alpha, nominal_policy=nom_policy_tar3, umin=umin_dry, umax=umax_dry)\n",
    "\n",
    "dubins_asif_global_wet = ControlAffineASIF(dyn, dubins_cbf_wet, alpha=alpha, nominal_policy=nom_policy_tar3)\n",
    "dubins_asif_ws_global_wet = ControlAffineASIF(dyn, tabular_cbf_wet, alpha=alpha, nominal_policy=nom_policy_tar3, umin=umin_wet, umax=umax_wet)\n",
    "\n",
    "dubins_asif_ws_refined = ControlAffineASIF(dyn, refined_cbf_hybrid, alpha=alpha, nominal_policy=nom_policy_tar3, umin=umin_dry, umax=umax_dry)\n"
   ]
  },
  {
   "attachments": {},
   "cell_type": "markdown",
   "metadata": {},
   "source": [
    "### Rollout different CBFs / nominal controller"
   ]
  },
  {
   "cell_type": "code",
   "execution_count": 55,
   "metadata": {},
   "outputs": [],
   "source": [
    "experiment = RolloutTrajectory('dubins', start_x=x0, n_sims_per_start=n_sims_per_start, t_sim=t_sim)"
   ]
  },
  {
   "cell_type": "code",
   "execution_count": 56,
   "metadata": {},
   "outputs": [],
   "source": [
    "hybrid_mode = True"
   ]
  },
  {
   "cell_type": "code",
   "execution_count": null,
   "metadata": {},
   "outputs": [],
   "source": [
    "import logging\n",
    "import pandas as pd\n",
    "\n",
    "logging.getLogger('cbf_opt').setLevel(level=logging.ERROR)  # Surpresses warnings\n",
    "if hybrid_mode == False:\n",
    "    results_df_single = experiment.run(dyn, {'Nominal': nom_policy_tar3, 'Analytical': dubins_asif_tar3, 'Refined': dubins_asif_ws_tar3})\n",
    "    results_df = results_df_single.copy()\n",
    "else:\n",
    "    results_df_hybrid, jump_state, traj_all = experiment.run_hybrid(dyn, {'Nominal': nom_policy_tar2, 'Baseline': dubins_asif_ws_tar2_5, 'Refined': dubins_asif_ws_refined, 'Global': dubins_asif_ws_global_dry}, {'Nominal': nom_policy_tar3, 'Baseline': dubins_asif_ws_tar3, 'Refined': dubins_asif_ws_tar3, 'Global': dubins_asif_ws_global_wet}, switch_position)\n",
    "    results_df = results_df_hybrid.copy()"
   ]
  },
  {
   "attachments": {},
   "cell_type": "markdown",
   "metadata": {},
   "source": [
    "### Visualizing the results"
   ]
  },
  {
   "cell_type": "code",
   "execution_count": 58,
   "metadata": {},
   "outputs": [],
   "source": [
    "ts_experiment = TimeSeriesExperiment('dubins', start_x=x0, n_sims_per_start=n_sims_per_start, t_sim=t_sim)\n",
    "ss_experiment = StateSpaceExperiment('dubins', x_indices=[0, 1], start_x=x0, n_sims_per_start=n_sims_per_start, t_sim=t_sim)"
   ]
  },
  {
   "attachments": {},
   "cell_type": "markdown",
   "metadata": {},
   "source": [
    "Next, we remove the part of the trajectory that is beyond the target! (Dubins car can't stabilize so we consider a finite-time reaching scenario)"
   ]
  },
  {
   "cell_type": "code",
   "execution_count": 59,
   "metadata": {},
   "outputs": [
    {
     "name": "stdout",
     "output_type": "stream",
     "text": [
      "<class 'pandas.core.frame.DataFrame'>\n"
     ]
    }
   ],
   "source": [
    "print(type(results_df))"
   ]
  },
  {
   "cell_type": "code",
   "execution_count": 60,
   "metadata": {},
   "outputs": [
    {
     "name": "stdout",
     "output_type": "stream",
     "text": [
      "(401, 4)\n"
     ]
    }
   ],
   "source": [
    "print(traj_all.shape)"
   ]
  },
  {
   "cell_type": "code",
   "execution_count": 61,
   "metadata": {},
   "outputs": [],
   "source": [
    "updated_df = results_df.copy()\n",
    "for ctrl in updated_df.controller.unique():\n",
    "    df = updated_df[(updated_df.controller == ctrl) & (updated_df.measurement == 'dist_to_goal')]\n",
    "    min_val = df.value.min()\n",
    "    t_min = df.t.loc[df.value == df.value.min()].values[0]\n",
    "    condition = updated_df[(updated_df.controller == ctrl) & (updated_df.t > t_min)]\n",
    "    updated_df = updated_df.drop(condition.index)\n",
    "updated_df = updated_df.reset_index(drop=True)"
   ]
  },
  {
   "attachments": {},
   "cell_type": "markdown",
   "metadata": {},
   "source": [
    "## Visualizations for paper + demo + videos"
   ]
  },
  {
   "attachments": {},
   "cell_type": "markdown",
   "metadata": {},
   "source": [
    "### Figure in paper"
   ]
  },
  {
   "cell_type": "code",
   "execution_count": 62,
   "metadata": {},
   "outputs": [],
   "source": [
    "colors = sns.color_palette(\"tab10\")\n",
    "chosen_colors = [(0.5, 0.5, 0.5)]\n",
    "chosen_colors.append(colors[0])\n",
    "chosen_colors.append(colors[1])\n",
    "chosen_colors.append((0.2, 0.2, 0.2))\n",
    "chosen_colors.append((0.7, 0.7, 0.7))\n",
    "\n",
    "colors = [(0.3, 0.3, 0.3)]\n",
    "colors += [(sns.color_palette(\"RdYlGn_r\", 7)[0])]\n",
    "colors += [(sns.color_palette(\"RdYlGn_r\", 9)[6])]\n",
    "colors += [(sns.color_palette(\"RdYlGn_r\", 9)[8])]\n",
    "colors += [(4 / 255, 101 / 255, 4 / 255)]\n",
    "\n",
    "alt_colors = sns.color_palette(\"pastel\", 9).as_hex()"
   ]
  },
  {
   "cell_type": "code",
   "execution_count": 63,
   "metadata": {},
   "outputs": [],
   "source": [
    "save_figure = True\n",
    "offset = 0"
   ]
  },
  {
   "cell_type": "code",
   "execution_count": 64,
   "metadata": {},
   "outputs": [
    {
     "name": "stdout",
     "output_type": "stream",
     "text": [
      "(50, 50)\n",
      "(50, 50)\n",
      "4.306122 -0.79591846\n"
     ]
    }
   ],
   "source": [
    "surface_values = target_values_hjr_dry[-1][..., offset]\n",
    "index_switch = int((switch_position - low_bound) / (upp_bound - low_bound) * resolution_bound)\n",
    "rest_index = resolution_bound - index_switch\n",
    "surface_values = jnp.concatenate((- jnp.ones((resolution_bound, index_switch)), jnp.ones((resolution_bound, rest_index))), axis=1)\n",
    "print(surface_values.shape)\n",
    "print(obstacle_all[..., offset, offset].shape)\n",
    "print(obstacle_all[20, 30, offset, offset], obstacle_all[20, 20, offset, offset])"
   ]
  },
  {
   "cell_type": "code",
   "execution_count": 65,
   "metadata": {},
   "outputs": [
    {
     "name": "stdout",
     "output_type": "stream",
     "text": [
      "(50,)\n"
     ]
    }
   ],
   "source": [
    "print(grid.coordinate_vectors[0].shape)"
   ]
  },
  {
   "cell_type": "code",
   "execution_count": 67,
   "metadata": {},
   "outputs": [
    {
     "data": {
      "image/png": "[encoded data removed]",
      "text/plain": [
       "<Figure size 1200x800 with 1 Axes>"
      ]
     },
     "metadata": {},
     "output_type": "display_data"
    }
   ],
   "source": [
    "fig_comb, axs = plt.subplots(1, 1, figsize=(12, 8), sharey=True)\n",
    "proxy = [] \n",
    "ax=axs\n",
    "\n",
    "cs = ax.contourf(grid.coordinate_vectors[1], grid.coordinate_vectors[0], obstacle_all[..., offset, offset].T, \n",
    "                 levels=[-10, 0], alpha=0.3, colors='grey')\n",
    "ax.contour(grid.coordinate_vectors[1], grid.coordinate_vectors[0], obstacle_all[..., offset, offset].T, \n",
    "           levels=[0], alpha=0.6, colors='grey', linewidths=2)\n",
    "cs = ax.contourf(grid.coordinate_vectors[1], grid.coordinate_vectors[0], surface_values, \n",
    "                 levels=[0, 50], colors=alt_colors[2], alpha=0.3)\n",
    "# cont = ax.contour(grid.coordinate_vectors[1], grid.coordinate_vectors[0], \n",
    "#                    target_values_0[0][..., offset], levels=[0], colors=colors, linewidths=6, alpha=0.6)\n",
    "# cont = ax.contour(grid.coordinate_vectors[1], grid.coordinate_vectors[0], \n",
    "#                    target_values_0[5][..., offset], levels=[0], colors=colors, linewidths=6, alpha=0.4)\n",
    "# cont = ax.contour(grid.coordinate_vectors[1], grid.coordinate_vectors[0], \n",
    "#                    target_values_0[10][..., offset], levels=[0], colors=colors, linewidths=6, alpha=0.2)\n",
    "# cont = ax.contour(grid.coordinate_vectors[1], grid.coordinate_vectors[0], \n",
    "#                    target_values_0[-1][..., offset], levels=[0], colors=np.array([colors[-1]]), linewidths=6)\n",
    "\n",
    "ax.grid()\n",
    "ax.set_xlabel(\"$x$ [m]\")\n",
    "ax.set_ylabel('$y$ [m]')\n",
    "ax.set_xlim([0, 15])\n",
    "ax.set_ylim([0, 10])\n",
    "# ax.set_title(r\"Iterations of CBF's safe set ($\\theta=-\\pi / 2$ slice)\")\n",
    "ax = axs\n",
    "ss_experiment.plot(dyn, updated_df, ax=ax, color=chosen_colors, add_direction=False)\n",
    "ax.grid(True)\n",
    "ax.set_xlim([0, 15])\n",
    "ax.set_ylim([0, 10])\n",
    "# ax.lines[3].set_linestyle((0, (5, 5, 1, 5)))\n",
    "pal = sns.color_palette(\"colorblind\")\n",
    "sns.set_palette(\"colorblind\")\n",
    "\n",
    "l1 = ax.plot(x0[0], x0[1], 'x', markersize=25, mew=5, color='grey')\n",
    "# l2 = ax.plot(opt_ctrl2.target[0], opt_ctrl2.target[1], 'o', markersize=25, color='grey', alpha=1)\n",
    "l2 = ax.plot(opt_ctrl3.target[0], opt_ctrl3.target[1], 'o', markersize=25, color='grey', alpha=1)\n",
    "miscs = [l1, l2]\n",
    "ax.contourf(grid.coordinate_vectors[1], grid.coordinate_vectors[0], obstacle_all[..., 0, 0].T, levels=[-10, 0], \n",
    "            colors='grey', alpha=.3)\n",
    "ax.contour(grid.coordinate_vectors[1], grid.coordinate_vectors[0], obstacle_all[..., 0, 0].T, levels=[0], \n",
    "           colors='grey', alpha=.6, linewidths=2)\n",
    "ax.set_ylabel(\"$y$ [m]\")\n",
    "ax.set_xlabel(\"$x$ [m]\")\n",
    "# axs[1].set_title('Trajectories with safety filter')\n",
    "# leg = axs[0].legend([misc[0] for misc in miscs], ['Start', 'Goals'], ncol=2, bbox_to_anchor=[.5, 0.05], loc='center', \n",
    "#                     frameon=True, handletextpad=0.6)\n",
    "# axs[0].add_artist(leg)\n",
    "\n",
    "# axs[0].plot(x0[0], x0[1], 'x', markersize=25, mew=5, color='grey')\n",
    "# # axs[0].plot(target2[0], target2[1], 'o', markersize=25, mew=5, color='grey')\n",
    "# axs[0].plot(target3[0], target3[1], 'o', markersize=25, mew=5, color='grey')\n",
    "\n",
    "leg = ax.legend([misc[0] for misc in miscs], ['Start', 'Goal'], ncol=2, bbox_to_anchor=[.5, 0.05], loc='center', \n",
    "                    frameon=True, handletextpad=0.6)\n",
    "ax.legend([ax.lines[0], ax.lines[3], ax.lines[4], ax.lines[6]], [\"Nominal controller\", \"Switch-unaware CBF\", \"Global CBF\", \"Switch-aware CBF (ours)\"], \n",
    "               fontsize=\"22\", bbox_to_anchor=[.36, 0.89], ncol=1, columnspacing=0.5, handletextpad=1.0, loc='center', frameon=True)\n",
    "ax.add_artist(leg)\n",
    "ax.contourf(grid.coordinate_vectors[1], grid.coordinate_vectors[0], surface_values, \n",
    "                 levels=[0, 50], colors=alt_colors[2], alpha=0.3)\n",
    "\n",
    "fig_comb.tight_layout()\n",
    "plt.subplots_adjust(wspace=0.05, hspace=0)\n",
    "\n",
    "if save_figure:\n",
    "    plt.savefig(\"dubins.png\", dpi=400, bbox_inches='tight')\n"
   ]
  },
  {
   "cell_type": "code",
   "execution_count": 373,
   "metadata": {},
   "outputs": [
    {
     "name": "stdout",
     "output_type": "stream",
     "text": [
      "[[ 4.80436062  6.40964129 -0.16090779 -0.05354151]\n",
      " [ 4.85364401  6.40164206 -0.16675729  0.0462603 ]\n",
      " [ 4.90289767  6.39335166 -0.17062158 -0.05354715]\n",
      " [ 4.95210102  6.38487408 -0.17278989  0.04620958]\n",
      " [ 5.00130388  6.37628669 -0.17395469 -0.05357039]\n",
      " [ 5.05047864  6.36764517 -0.17409123  0.04616346]\n",
      " [ 5.0996704   6.35899374 -0.17370505 -0.05360316]\n",
      " [ 5.14884722  6.35036451 -0.17264704  0.04612016]\n",
      " [ 5.19805152  6.34178411 -0.17133709 -0.05364135]\n",
      " [ 5.24724854  6.33327137 -0.16956642  0.04607893]\n",
      " [ 5.29647913  6.32484258 -0.16790157 -0.05368714]\n",
      " [ 5.34570498  6.31649893 -0.16608755  0.04604585]\n",
      " [ 5.39496467  6.30824144 -0.16441461 -0.05373287]\n",
      " [ 5.4442192   6.30006951 -0.16260417  0.04601557]\n",
      " [ 5.49350742  6.29198365 -0.16247955  0.14601557]\n",
      " [ 5.54232382  6.28398144 -0.16390712  0.24601557]\n",
      " [ 5.59016839  6.27606838 -0.16681015  0.34601557]\n",
      " [ 5.63655207  6.26825854 -0.17075723  0.44601557]\n",
      " [ 5.68100468  6.26059329 -0.16222933  0.34834329]\n",
      " [ 5.72738457  6.2530024  -0.16573875  0.44834329]\n",
      " [ 5.77182544  6.24556863 -0.17457834  0.54834329]\n",
      " [ 5.81384633  6.23815725 -0.19957834  0.64834329]\n",
      " [ 5.8529095   6.2302559  -0.22457834  0.74834329]\n",
      " [ 5.88863023  6.22209615 -0.24957834  0.84834329]\n",
      " [ 5.92066722  6.21393015 -0.27457834  0.74834329]\n",
      " [ 5.9559355   6.20399531 -0.29957834  0.84834329]\n",
      " [ 5.98752433  6.19423834 -0.32457834  0.74834329]\n",
      " [ 6.02225199  6.18255323 -0.34957834  0.84834329]\n",
      " [ 6.05331369  6.17122967 -0.37457834  0.74834329]\n",
      " [ 6.08741395  6.1578235  -0.34957834  0.64834329]\n",
      " [ 6.12485772  6.14417335 -0.37457834  0.54834329]\n",
      " [ 6.16456857  6.12856144 -0.34957834  0.44834329]\n",
      " [ 6.20690164  6.11312889 -0.32457834  0.34834329]\n",
      " [ 6.25144468  6.09814112 -0.34957834  0.24834329]\n",
      " [ 6.29697936  6.08154142 -0.32457884  0.14834329]\n",
      " [ 6.34384816  6.06577106 -0.34957843  0.04834329]\n",
      " [ 6.39076914  6.04866598 -0.32457884 -0.05165671]\n",
      " [ 6.43809518  6.03274177 -0.29957884  0.04834187]\n",
      " [ 6.48581241  6.01800312 -0.32457849 -0.05165672]\n",
      " [ 6.53313846  6.00207892 -0.29957886  0.04834181]\n",
      " [ 6.58085569  5.98734027 -0.32457851 -0.05165681]\n",
      " [ 6.62818174  5.97141607 -0.29957884  0.04834188]\n",
      " [ 6.67589897  5.95667742 -0.27457884 -0.05165675]\n",
      " [ 6.72396175  5.94313842 -0.29957851  0.04834193]\n",
      " [ 6.77167899  5.92839978 -0.27457885 -0.05165672]\n",
      " [ 6.81974176  5.91486079 -0.29957852  0.04834195]\n",
      " [ 6.867459    5.90012215 -0.27457885 -0.0516567 ]\n",
      " [ 6.91552178  5.88658315 -0.29957852  0.04834197]\n",
      " [ 6.96323902  5.87184452 -0.27457885 -0.05165669]\n",
      " [ 7.01130179  5.85830552 -0.29957852  0.04834197]\n",
      " [ 7.05901903  5.84356688 -0.27457886 -0.05165669]\n",
      " [ 7.10708181  5.83002789 -0.24957886  0.04834198]\n",
      " [ 7.15547603  5.81769252 -0.27457852 -0.05165668]\n",
      " [ 7.20353881  5.80415354 -0.24957886  0.04834198]\n",
      " [ 7.25193304  5.79181817 -0.27457852 -0.05165668]\n",
      " [ 7.29999582  5.7782792  -0.24957886  0.04834198]\n",
      " [ 7.34839004  5.76594383 -0.27457852 -0.05165668]\n",
      " [ 7.39645282  5.75240485 -0.24957886  0.04834198]\n",
      " [ 7.44484705  5.74006948 -0.27457852 -0.05165668]\n",
      " [ 7.49290983  5.7265305  -0.24957886  0.04834198]\n",
      " [ 7.54130405  5.71419514 -0.22457886 -0.05165668]\n",
      " [ 7.58998343  5.7030752  -0.24957886 -0.07665668]\n",
      " [ 7.63829197  5.69076167 -0.27457886 -0.10165668]\n",
      " [ 7.68617048  5.67727458 -0.29957886 -0.12665668]\n",
      " [ 7.73356085  5.66263689 -0.32457886 -0.15165668]\n",
      " [ 7.78040618  5.64687442 -0.34957886 -0.17665668]\n",
      " [ 7.82665094  5.63001584 -0.37457886 -0.20165668]\n",
      " [ 7.87224109  5.61209252 -0.39957886 -0.22665668]\n",
      " [ 7.91712423  5.5931385  -0.42457886 -0.25165668]\n",
      " [ 7.96124974  5.57319043 -0.44957886 -0.27665668]\n",
      " [ 8.00456888  5.55228739 -0.47457886 -0.30165668]\n",
      " [ 8.04703494  5.53047089 -0.49957886 -0.32665668]\n",
      " [ 8.08860331  5.50778471 -0.52457886 -0.35165668]\n",
      " [ 8.12923167  5.4842748  -0.54957886 -0.37665668]\n",
      " [ 8.16888001  5.45998916 -0.57457886 -0.40165668]\n",
      " [ 8.20751079  5.43497776 -0.59957886 -0.42544317]\n",
      " [ 8.24510971  5.40927819 -0.62457886 -0.4480204 ]\n",
      " [ 8.28166712  5.38292599 -0.64813048 -0.4730204 ]\n",
      " [ 8.31715096  5.35605554 -0.67123889 -0.4980204 ]\n",
      " [ 8.35154768  5.32873517 -0.69391113 -0.5230204 ]]\n"
     ]
    }
   ],
   "source": [
    "print(traj_all[100:180, ...])"
   ]
  },
  {
   "cell_type": "code",
   "execution_count": 351,
   "metadata": {},
   "outputs": [
    {
     "name": "stdout",
     "output_type": "stream",
     "text": [
      "[[-0.28204122  0.23521964]\n",
      " [ 0.5        -0.5       ]\n",
      " [-0.23036786  0.27490909]\n",
      " [-0.28607857  0.23163948]\n",
      " [ 0.5        -0.5       ]\n",
      " [-0.23395625  0.2718935 ]\n",
      " [-0.28946355  0.22963153]\n",
      " [ 0.5        -0.5       ]\n",
      " [-0.23704807  0.27021737]\n",
      " [-0.29257367  0.22863969]\n",
      " [ 0.5        -0.5       ]\n",
      " [-0.23996984  0.26939529]\n",
      " [-0.29566711  0.2283231 ]\n",
      " [ 0.5        -0.5       ]\n",
      " [-0.24295799  0.26912721]\n",
      " [-0.29893908  0.22846846]\n",
      " [ 0.5        -0.5       ]\n",
      " [-0.24619011  0.26922687]\n",
      " [-0.30254668  0.22895369]\n",
      " [ 0.5        -0.5       ]\n",
      " [-0.2498168   0.26958539]\n",
      " [-0.30663413  0.22970693]\n",
      " [ 0.5        -0.5       ]\n",
      " [-0.25398349  0.27013176]\n",
      " [-0.31134667  0.23069464]\n",
      " [ 0.5        -0.5       ]\n",
      " [-0.25883459  0.27084242]\n",
      " [ 0.5        -0.5       ]\n",
      " [-0.20908126  0.30705594]\n",
      " [-0.27014564  0.25430364]]\n"
     ]
    }
   ],
   "source": [
    "print(u_all[350:380, ...])"
   ]
  },
  {
   "attachments": {},
   "cell_type": "markdown",
   "metadata": {},
   "source": [
    "### Animation of 0-superlevel set"
   ]
  },
  {
   "cell_type": "code",
   "execution_count": 45,
   "metadata": {},
   "outputs": [],
   "source": [
    "toggle_hjr_visualization = False\n",
    "save_video = True\n",
    "offset = 21"
   ]
  },
  {
   "cell_type": "code",
   "execution_count": 46,
   "metadata": {},
   "outputs": [
    {
     "data": {
      "image/png": "[encoded data removed]",
      "text/plain": [
       "<Figure size 1800x900 with 1 Axes>"
      ]
     },
     "metadata": {},
     "output_type": "display_data"
    }
   ],
   "source": [
    "def render_frame(i, colorbar=False):\n",
    "    global cont\n",
    "    for c in cont.collections:\n",
    "        c.remove()\n",
    "\n",
    "    timestamp.set_text(\"Iteration = {}\".format(i))\n",
    "    cont = ax.contour(grid.coordinate_vectors[1], grid.coordinate_vectors[0], target_values[i][..., offset], levels=[0], \n",
    "                      colors=np.array([colors[-1]]))\n",
    "    if toggle_hjr_visualization:\n",
    "        global cont2\n",
    "        for c in cont2.collections:\n",
    "            c.remove()\n",
    "        cont2 = ax.contour(grid.coordinate_vectors[1], grid.coordinate_vectors[0], target_values_hjr[i][..., offset], levels=[0],\n",
    "                           colors=np.array([chosen_colors[0]]))\n",
    "\n",
    "\n",
    "filename = \"dubins.mp4\"\n",
    "fig, ax = plt.subplots(1, 1, figsize=(18,9 ))\n",
    "\n",
    "proxy = [] \n",
    "obstacle_viz = ax.contourf(grid.coordinate_vectors[1], grid.coordinate_vectors[0], obstacle[..., offset], \n",
    "                           levels=[-10, 0], colors='grey', alpha=0.3)\n",
    "\n",
    "cs = ax.contourf(grid.coordinate_vectors[1], grid.coordinate_vectors[0], target_values_hjr[-1][..., offset], levels=[0, 50], \n",
    "                 colors=alt_colors[2], alpha=0.3)\n",
    "cont = ax.contour(grid.coordinate_vectors[1], grid.coordinate_vectors[0], target_values[0][..., offset], levels=[0], \n",
    "                  colors=np.array([colors[3]]))\n",
    "proxy += [plt.Rectangle((0,0),1,1,ec = colors[3], fc='white', lw=5)\n",
    "        for pc in cont.collections]\n",
    "\n",
    "timestamp = ax.text(0.05, 0.9, \"\", transform=ax.transAxes)\n",
    "\n",
    "\n",
    "cont = ax.contour(grid.coordinate_vectors[1], grid.coordinate_vectors[0], target_values[0][..., offset], levels=[0], \n",
    "                  colors=np.array([colors[-1]]))\n",
    "proxy += [plt.Rectangle((0,0),1,1,ec = colors[-1], fc='white', lw=5)\n",
    "          for pc in cont.collections]\n",
    "if toggle_hjr_visualization:\n",
    "    cont2 = ax.contour(grid.coordinate_vectors[1], grid.coordinate_vectors[0], target_values_hjr[0][..., offset], levels=[0], \n",
    "                       colors=np.array([chosen_colors[0]]))\n",
    "    proxy += [plt.Rectangle((0,0),1,1,ec = chosen_colors[0], fc='white', lw=5)\n",
    "              for pc in cont2.collections]\n",
    "\n",
    "ax.grid()\n",
    "ax.set_xlabel(\"$x$ [m]\")\n",
    "ax.set_xlim([1, 10])\n",
    "ax.set_ylim([2.5, 8])\n",
    "ax.set_ylabel(\"$y$ [m]\")\n",
    "\n",
    "proxy2 = []\n",
    "proxy2 += [plt.Rectangle((0,0),1,1,fc = alt_colors[2], ec='white', alpha=0.3) for pc in cs.collections]\n",
    "proxy2 += [plt.Rectangle((0,0),1,1, fc='grey', ec='grey', alpha=0.3) for pc in obstacle_viz.collections]\n",
    "\n",
    "legend_entries = [\"$\\partial \\mathcal{C}_h$\", \"$\\partial \\mathcal{C}_h(t)$\"]\n",
    "if toggle_hjr_visualization:\n",
    "    legend_entries += [\"$\\partial \\mathcal{C}_{\\ell}(t)$\"]\n",
    "leg = ax.legend(proxy, legend_entries, \n",
    "          loc='center', bbox_to_anchor=(0.5, 0.9), ncol=3, columnspacing=1.5, handletextpad=0.4)\n",
    "ax.legend(proxy2, [\"Viability kernel $\\mathcal{S}^*$\", \"Obstacle $\\mathcal{L}^c$\"],\n",
    "          loc='center', bbox_to_anchor=(0.5, 0.07), ncol=3, columnspacing=1.5, handletextpad=0.4)\n",
    "ax.add_artist(leg)\n",
    "\n",
    "\n",
    "render_frame(0, False)\n",
    "animation = anim.FuncAnimation(fig, render_frame, target_values.shape[0] * 5 // 16, interval=100)\n",
    "\n",
    "if save_video: \n",
    "    animation.save(filename, writer='ffmpeg')"
   ]
  },
  {
   "cell_type": "code",
   "execution_count": null,
   "metadata": {},
   "outputs": [],
   "source": []
  }
 ],
 "metadata": {
  "kernelspec": {
   "display_name": "Python 3.8.13 ('refine_cbf')",
   "language": "python",
   "name": "python3"
  },
  "language_info": {
   "codemirror_mode": {
    "name": "ipython",
    "version": 3
   },
   "file_extension": ".py",
   "mimetype": "text/x-python",
   "name": "python",
   "nbconvert_exporter": "python",
   "pygments_lexer": "ipython3",
   "version": "3.10.12"
  },
  "vscode": {
   "interpreter": {
    "hash": "817647b86e70f13476c612841a53261b77d8bded203e176d956e3e918f8a40e2"
   }
  }
 },
 "nbformat": 4,
 "nbformat_minor": 4
}
