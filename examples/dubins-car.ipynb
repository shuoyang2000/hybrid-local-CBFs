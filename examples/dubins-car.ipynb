{
 "cells": [
  {
   "attachments": {},
   "cell_type": "markdown",
   "metadata": {},
   "source": [
    "# Dubins Car\n",
    "\n",
    "The Dubins car problem is non-holonomic, and while each configuration is possible, the manner in which those configurations can be reached is reduced. Notably we have $$\\dot y \\cos \\theta - \\dot x \\sin \\theta = 0$$"
   ]
  },
  {
   "attachments": {},
   "cell_type": "markdown",
   "metadata": {},
   "source": [
    "For hybrid example, the car is expected to reach a destination while avoiding two obstacles.\n",
    "There are two different dynamics on the road (dry and wet road), with different control limits."
   ]
  },
  {
   "cell_type": "code",
   "execution_count": 64,
   "metadata": {},
   "outputs": [],
   "source": [
    "import matplotlib.pyplot as plt\n",
    "import hj_reachability as hj\n",
    "import jax.numpy as jnp\n",
    "import numpy as np\n",
    "import seaborn as sns\n",
    "import dubins_nominal_hjr_control as nominal_hjr_control\n",
    "import matplotlib\n",
    "import matplotlib.animation as anim\n",
    "import os\n",
    "import logging"
   ]
  },
  {
   "cell_type": "code",
   "execution_count": 9,
   "metadata": {},
   "outputs": [],
   "source": [
    "sys.path.insert(1, '../lib')\n",
    "import refine_cbfs\n",
    "import experiment_wrapper\n",
    "import cbf_opt\n",
    "from experiment_wrapper import RolloutTrajectory, TimeSeriesExperiment, StateSpaceExperiment\n",
    "from cbf_opt import ControlAffineDynamics, ControlAffineCBF, ControlAffineASIF"
   ]
  },
  {
   "cell_type": "code",
   "execution_count": 10,
   "metadata": {},
   "outputs": [],
   "source": [
    "matplotlib.rcParams.update({\n",
    "    \"pgf.texsystem\": \"pdflatex\",\n",
    "    'font.family': 'serif',\n",
    "    'font.size': '80',\n",
    "    'text.usetex': False,   # Toggle to true for official LaTeX output\n",
    "    'pgf.rcfonts': False,\n",
    "    'lines.linewidth': 6.,\n",
    "})\n",
    "\n",
    "params = {'axes.labelsize': 28,'axes.titlesize':28, 'font.size': 28, 'legend.fontsize': 28, \n",
    "          'xtick.labelsize': 28, 'ytick.labelsize': 28, 'lines.linewidth': 5}\n",
    "matplotlib.rcParams.update(params)"
   ]
  },
  {
   "attachments": {},
   "cell_type": "markdown",
   "metadata": {},
   "source": [
    "## Setup Problem (dynamics, environment and CBF)"
   ]
  },
  {
   "attachments": {},
   "cell_type": "markdown",
   "metadata": {},
   "source": [
    "### Parameter values"
   ]
  },
  {
   "attachments": {},
   "cell_type": "markdown",
   "metadata": {},
   "source": [
    "Dynamics properties"
   ]
  },
  {
   "cell_type": "code",
   "execution_count": 15,
   "metadata": {},
   "outputs": [],
   "source": [
    "# original system cannot control velocity, we introduce acceleration in the new system.\n",
    "\n",
    "use_new_system =  True # choose new system or not\n",
    "\n",
    "dubins_vel = 1.0  # m / s \n",
    "if use_new_system:\n",
    "    umin_dry = np.array([-0.5, -2.])  # rad / s and m^2 / s\n",
    "    umax_dry = np.array([0.5, 2.]) \n",
    "    umin_wet = np.array([-0.2, -0.5])\n",
    "    umax_wet = np.array([0.2, 0.5])\n",
    "    file_name = '_new'\n",
    "else:\n",
    "    umin_dry = np.array([-0.5])  # rad / s\n",
    "    umax_dry = np.array([0.5])\n",
    "    file_name = ''\n",
    "dt = 0.05 # s"
   ]
  },
  {
   "attachments": {},
   "cell_type": "markdown",
   "metadata": {},
   "source": [
    "Constraint set of the problem. Two rectangular constraints in the $(x,y)$ space"
   ]
  },
  {
   "cell_type": "code",
   "execution_count": 12,
   "metadata": {},
   "outputs": [],
   "source": [
    "obstacle_center = np.array([[5.0, 5.0], [10.0, 5.0]])\n",
    "obstacle_length = np.array([2.0, 2.0])"
   ]
  },
  {
   "attachments": {},
   "cell_type": "markdown",
   "metadata": {},
   "source": [
    "### Dynamics"
   ]
  },
  {
   "attachments": {},
   "cell_type": "markdown",
   "metadata": {},
   "source": [
    "Dynamics of the Dubins car problem (control affine) in the format of `cbf_opt`\n",
    "\n",
    "`DubinsJNPDynamics` is required for usage with `hj_reachability` module"
   ]
  },
  {
   "cell_type": "code",
   "execution_count": 13,
   "metadata": {},
   "outputs": [],
   "source": [
    "# old system with fixed velocity, not used\n",
    "\n",
    "class DubinsDynamics(ControlAffineDynamics):\n",
    "    STATES = ['X', 'Y', 'THETA']\n",
    "    CONTROLS = ['OMEGA']\n",
    "    \n",
    "    def __init__(self, params, test = False, **kwargs):\n",
    "        params['n_dims'] = 3\n",
    "        params['control_dims'] = 1\n",
    "        params[\"periodic_dims\"] = [2]\n",
    "        self.v = params[\"v\"]\n",
    "        super().__init__(params, test, **kwargs)\n",
    "\n",
    "    def open_loop_dynamics(self, state, time=0.0):\n",
    "        f = np.zeros_like(state)\n",
    "        f[..., 0] = self.v * np.cos(state[..., 2])\n",
    "        f[..., 1] = self.v * np.sin(state[..., 2])\n",
    "        return f\n",
    "\n",
    "    def control_matrix(self, state, time=0.0):\n",
    "        B = np.repeat(np.zeros_like(state)[..., None], self.control_dims, axis=-1)\n",
    "        B[..., 2, 0] = 1\n",
    "        return B\n",
    "\n",
    "    def disturbance_jacobian(self, state, time=0.0):\n",
    "        return np.repeat(np.zeros_like(state)[..., None], 1, axis=-1)\n",
    "\n",
    "    def state_jacobian(self, state, control, time=0.0):\n",
    "        J = np.repeat(np.zeros_like(state)[..., None], self.n_dims, axis=-1)\n",
    "        J[..., 0, 2] = -self.v * np.sin(state[..., 2])\n",
    "        J[..., 1, 2] = self.v * np.cos(state[..., 2])\n",
    "        return J\n",
    "        \n",
    "class DubinsJNPDynamics(DubinsDynamics):\n",
    "    def open_loop_dynamics(self, state, time=0.0):\n",
    "        return jnp.array([self.v * jnp.cos(state[2]), self.v * jnp.sin(state[2]), 0])\n",
    "\n",
    "    def control_matrix(self, state, time=0.0):\n",
    "        return jnp.expand_dims(jnp.array([0, 0, 1]), axis=-1)\n",
    "\n",
    "    def disturbance_jacobian(self, state, time=0.0):\n",
    "        return jnp.expand_dims(jnp.zeros(3), axis=-1)\n",
    "\n",
    "    def state_jacobian(self, state, control, time=0.0):\n",
    "        return jnp.array([\n",
    "            [0, 0, -self.v * jnp.sin(state[2])],\n",
    "            [0, 0, self.v * jnp.cos(state[2])], \n",
    "            [0, 0, 0]])"
   ]
  },
  {
   "cell_type": "code",
   "execution_count": 14,
   "metadata": {},
   "outputs": [],
   "source": [
    "# we are using this new system\n",
    "\n",
    "class DubinsDynamicsNew(ControlAffineDynamics):\n",
    "    STATES = ['X', 'Y', 'THETA', 'VELOCITY']\n",
    "    CONTROLS = ['OMEGA', 'ACCELERATION']\n",
    "    \n",
    "    def __init__(self, params, test = False, **kwargs):\n",
    "        params['n_dims'] = 4\n",
    "        params['control_dims'] = 2\n",
    "        params[\"periodic_dims\"] = [2]\n",
    "        # self.v = params[\"v\"]\n",
    "        super().__init__(params, test, **kwargs)\n",
    "\n",
    "    def open_loop_dynamics(self, state, time=0.0):\n",
    "        f = np.zeros_like(state)\n",
    "        f[..., 0] = np.cos(state[..., 3]) * np.cos(state[..., 2])\n",
    "        f[..., 1] = np.cos(state[..., 3]) * np.sin(state[..., 2])\n",
    "        return f\n",
    "\n",
    "    def control_matrix(self, state, time=0.0):\n",
    "        B = np.repeat(np.zeros_like(state)[..., None], self.control_dims, axis=-1)\n",
    "        B[..., 2, 0] = 1\n",
    "        B[..., 3, 1] = 1\n",
    "        return B\n",
    "\n",
    "    def disturbance_jacobian(self, state, time=0.0):\n",
    "        return np.repeat(np.zeros_like(state)[..., None], 1, axis=-1)\n",
    "\n",
    "    def state_jacobian(self, state, control, time=0.0):\n",
    "        J = np.repeat(np.zeros_like(state)[..., None], self.n_dims, axis=-1)\n",
    "        J[..., 0, 2] = - np.cos(state[..., 3]) * np.sin(state[..., 2])\n",
    "        J[..., 1, 2] = np.cos(state[..., 3]) * np.cos(state[..., 2])\n",
    "        J[..., 0, 3] = - np.sin(state[..., 3]) * np.cos(state[..., 2])\n",
    "        J[..., 1, 3] = - np.sin(state[..., 3]) * np.sin(state[..., 2])\n",
    "        return J\n",
    "        \n",
    "class DubinsJNPDynamicsNew(DubinsDynamicsNew):\n",
    "    def open_loop_dynamics(self, state, time=0.0):\n",
    "        return jnp.array([jnp.cos(state[3]) * jnp.cos(state[2]), jnp.cos(state[3]) * jnp.sin(state[2]), 0, 0])\n",
    "\n",
    "    def control_matrix(self, state, time=0.0):\n",
    "        return jnp.array([[0, 0], [0, 0], [1, 0], [0, 1]])\n",
    "\n",
    "    def disturbance_jacobian(self, state, time=0.0):\n",
    "        return jnp.expand_dims(jnp.zeros(4), axis=-1)\n",
    "\n",
    "    def state_jacobian(self, state, control, time=0.0):\n",
    "        return jnp.array([\n",
    "            [0, 0, -jnp.cos(state[3]) * jnp.sin(state[2]), - jnp.sin(state[3]) * jnp.cos(state[2])],\n",
    "            [0, 0, jnp.cos(state[3]) * jnp.cos(state[2]), - jnp.sin(state[3]) * jnp.sin(state[2])], \n",
    "            [0, 0, 0, 0],\n",
    "            [0, 0, 0, 0]])"
   ]
  },
  {
   "cell_type": "code",
   "execution_count": 16,
   "metadata": {},
   "outputs": [],
   "source": [
    "if use_new_system:\n",
    "    dyn = DubinsDynamicsNew({\"v\": dubins_vel, \"dt\": dt}, test=True)\n",
    "    dyn_jnp = DubinsJNPDynamicsNew({\"v\": dubins_vel, \"dt\": dt}, test=True)\n",
    "else:\n",
    "    dyn = DubinsDynamics({\"v\": dubins_vel, \"dt\": dt}, test=True)\n",
    "    dyn_jnp = DubinsJNPDynamics({\"v\": dubins_vel, \"dt\": dt}, test=True)"
   ]
  },
  {
   "attachments": {},
   "cell_type": "markdown",
   "metadata": {},
   "source": [
    "### Constructing initial local CBFs"
   ]
  },
  {
   "cell_type": "code",
   "execution_count": 17,
   "metadata": {},
   "outputs": [],
   "source": [
    "class DubinsCBF(ControlAffineCBF):\n",
    "    def __init__(self, dynamics: DubinsDynamics, params: dict = dict(), **kwargs) -> None:\n",
    "        self.center = params[\"center\"]\n",
    "        self.r = params[\"r\"]\n",
    "        super().__init__(dynamics, params, **kwargs)\n",
    "\n",
    "    def vf(self, state, time=0.0):\n",
    "        vf_value = (state[..., 0] - self.center[0]) ** 2 + (state[..., 1] - self.center[1]) ** 2 - self.r ** 2\n",
    "        return vf_value\n",
    "\n",
    "    def _grad_vf(self, state, time=0.0):\n",
    "        dvf_dx = np.zeros_like(state)\n",
    "        dvf_dx[..., 0] = 2 * (state[..., 0] - self.center[0])\n",
    "        dvf_dx[..., 1] = 2 * (state[..., 1] - self.center[1])\n",
    "        return dvf_dx"
   ]
  },
  {
   "cell_type": "code",
   "execution_count": 21,
   "metadata": {},
   "outputs": [],
   "source": [
    "# dry CBF and wet CBF\n",
    "\n",
    "dubins_cbf_dry = DubinsCBF(dyn, {\"center\": obstacle_center[0, :], \"r\": np.sqrt(np.max(obstacle_length))}, test=True)\n",
    "dubins_cbf_wet = DubinsCBF(dyn, {\"center\": obstacle_center[1, :], \"r\": np.sqrt(np.max(obstacle_length))}, test=True)"
   ]
  },
  {
   "attachments": {},
   "cell_type": "markdown",
   "metadata": {},
   "source": [
    "### Environment\n",
    "Defining the discretized state space and the location of obstacles"
   ]
  },
  {
   "cell_type": "code",
   "execution_count": 22,
   "metadata": {},
   "outputs": [],
   "source": [
    "dyn_hjr_dry = refine_cbfs.dynamics.HJControlAffineDynamics(dyn_jnp, control_space=hj.sets.Box(jnp.array(umin_dry), jnp.array(umax_dry)))\n",
    "dyn_hjr_wet = refine_cbfs.dynamics.HJControlAffineDynamics(dyn_jnp, control_space=hj.sets.Box(jnp.array(umin_wet), jnp.array(umax_wet)))\n",
    "\n",
    "low_bound = -5.\n",
    "upp_bound = 20.\n",
    "resolution_bound = int(201 / 4)\n",
    "\n",
    "if use_new_system:\n",
    "    state_domain = hj.sets.Box(lo=jnp.array([low_bound, low_bound, -jnp.pi, -5.]), hi=jnp.array([upp_bound, upp_bound, jnp.pi, 5.]))\n",
    "    grid_resolution = (resolution_bound, resolution_bound, 41, 20)\n",
    "    grid = hj.Grid.from_lattice_parameters_and_boundary_conditions(state_domain, grid_resolution, periodic_dims=2)\n",
    "else:\n",
    "    state_domain = hj.sets.Box(lo=jnp.array([low_bound, low_bound, -jnp.pi]), hi=jnp.array([upp_bound, upp_bound, jnp.pi]))\n",
    "    grid_resolution = (resolution_bound, resolution_bound, 81)\n",
    "    grid = hj.Grid.from_lattice_parameters_and_boundary_conditions(state_domain, grid_resolution, periodic_dims=2)    "
   ]
  },
  {
   "cell_type": "code",
   "execution_count": 35,
   "metadata": {},
   "outputs": [],
   "source": [
    "def constraint_set(state):\n",
    "    \"\"\"A real-valued function s.t. the zero-superlevel set is the safe set\n",
    "\n",
    "    Args:\n",
    "        state : An unbatched (!) state vector, an array of shape `(4,)` containing `[y, v_y, phi, omega]`.\n",
    "\n",
    "    Returns:\n",
    "        A scalar, positive iff the state is in the safe set\n",
    "    \"\"\"\n",
    "    length = obstacle_length\n",
    "    bottom_left = jnp.array(obstacle_center[0, :] - obstacle_length / 2)\n",
    "    value_dry_obstacle = - jnp.min(jnp.array([state[0] - bottom_left[0], bottom_left[0] + length[0] - state[0], \n",
    "                               state[1] - bottom_left[1], bottom_left[1] + length[1] - state[1]]))\n",
    "    bottom_right = jnp.array(obstacle_center[1, :] - obstacle_length / 2)\n",
    "    value_wet_obstacle = - jnp.min(jnp.array([state[0] - bottom_right[0], bottom_right[0] + length[0] - state[0], \n",
    "                               state[1] - bottom_right[1], bottom_right[1] + length[1] - state[1]]))\n",
    "    \n",
    "    return value_dry_obstacle, value_wet_obstacle\n",
    "\n",
    "obstacle_dry, obstacle_wet = hj.utils.multivmap(constraint_set, jnp.arange(grid.ndim))(grid.states)  # constraint l(x)\n",
    "obstacle_all = jnp.minimum(obstacle_dry, obstacle_wet)\n",
    "assert obstacle_dry.shape == obstacle_wet.shape, \"Double check the obstacles computation\""
   ]
  },
  {
   "attachments": {},
   "cell_type": "markdown",
   "metadata": {},
   "source": [
    "## Start to find valid local CBFs using Dynamic Programming"
   ]
  },
  {
   "cell_type": "code",
   "execution_count": 44,
   "metadata": {},
   "outputs": [],
   "source": [
    "# time setup\n",
    "time = 0.\n",
    "target_time = -10.\n",
    "times = jnp.linspace(time, target_time, 101)\n",
    "\n",
    "# data saving path\n",
    "dataset_path = \"../dataset/dubins_data\"\n",
    "if not os.path.isdir(dataset_path):\n",
    "    os.makedirs(dataset_path)"
   ]
  },
  {
   "cell_type": "code",
   "execution_count": 43,
   "metadata": {},
   "outputs": [
    {
     "name": "stderr",
     "output_type": "stream",
     "text": [
      "100%|##########| 10.0000/10.0 [01:39<00:00,  9.99s/sim_s]\n",
      "100%|##########| 10.0000/10.0 [01:38<00:00,  9.90s/sim_s]\n"
     ]
    }
   ],
   "source": [
    "# computing local dry CBF values, takes around 3 mins on desktop\n",
    "\n",
    "# initialization\n",
    "dubins_tabular_cbf_dry = refine_cbfs.TabularControlAffineCBF(dyn, dict(), grid=grid)\n",
    "dubins_tabular_cbf_dry.tabularize_cbf(dubins_cbf_dry)\n",
    "\n",
    "# backward reach setting\n",
    "backwards_reachable_tube = lambda obstacle: (lambda t, x: jnp.minimum(x, obstacle))\n",
    "solver_settings_dry = hj.SolverSettings.with_accuracy(\"high\", value_postprocessor=backwards_reachable_tube(obstacle_dry))\n",
    "\n",
    "# solving\n",
    "init_value_dry = dubins_tabular_cbf_dry.vf_table \n",
    "target_values_hjr_dry = hj.solve(solver_settings_dry, dyn_hjr_dry, grid, times, obstacle_dry)\n",
    "target_values_dry = hj.solve(solver_settings_dry, dyn_hjr_dry, grid, times, init_value_dry)\n",
    "\n",
    "# saving\n",
    "np.save(dataset_path + \"/target_values_hjr_dry\"+file_name+\".npy\", target_values_hjr_dry)\n",
    "np.save(dataset_path + \"/target_values_dry\"+file_name+\".npy\", target_values_dry)"
   ]
  },
  {
   "cell_type": "code",
   "execution_count": 45,
   "metadata": {},
   "outputs": [
    {
     "name": "stderr",
     "output_type": "stream",
     "text": [
      "100%|##########| 10.0000/10.0 [00:51<00:00,  5.10s/sim_s]\n",
      "100%|##########| 10.0000/10.0 [00:49<00:00,  4.94s/sim_s]\n"
     ]
    }
   ],
   "source": [
    "# computing local wet CBF values, takes around 2 mins on desktop\n",
    "\n",
    "dubins_tabular_cbf_wet = refine_cbfs.TabularControlAffineCBF(dyn, dict(), grid=grid)\n",
    "dubins_tabular_cbf_wet.tabularize_cbf(dubins_cbf_wet)\n",
    "\n",
    "solver_settings_wet = hj.SolverSettings.with_accuracy(\"high\", value_postprocessor=backwards_reachable_tube(obstacle_wet))\n",
    "init_value_wet = dubins_tabular_cbf_wet.vf_table \n",
    "\n",
    "target_values_hjr_wet = hj.solve(solver_settings_wet, dyn_hjr_wet, grid, times, obstacle_wet)\n",
    "target_values_wet = hj.solve(solver_settings_wet, dyn_hjr_wet, grid, times, init_value_wet)\n",
    "\n",
    "np.save(dataset_path + \"/target_values_hjr_wet\"+file_name+\".npy\", target_values_hjr_wet)\n",
    "np.save(dataset_path + \"/target_values_wet\"+file_name+\".npy\", target_values_wet)"
   ]
  },
  {
   "cell_type": "code",
   "execution_count": 46,
   "metadata": {},
   "outputs": [],
   "source": [
    "# if you have computed values before, then just read them\n",
    "\n",
    "target_values_wet = jnp.load(dataset_path + \"/target_values_wet\"+file_name+\".npy\")\n",
    "target_values_hjr_wet = jnp.load(dataset_path + \"/target_values_hjr_wet\"+file_name+\".npy\")\n",
    "target_values_dry = jnp.load(dataset_path + \"/target_values_dry\"+file_name+\".npy\")\n",
    "target_values_hjr_dry = jnp.load(dataset_path + \"/target_values_hjr_dry\"+file_name+\".npy\")"
   ]
  },
  {
   "cell_type": "code",
   "execution_count": 47,
   "metadata": {},
   "outputs": [],
   "source": [
    "# Now write computed CBF values in the 'refine_cbfs' format\n",
    "\n",
    "tabular_cbf_dry = refine_cbfs.TabularControlAffineCBF(dyn, grid=grid)\n",
    "tabular_cbf_dry.vf_table = np.array(target_values_dry[-1])\n",
    "\n",
    "tabular_cbf_wet = refine_cbfs.TabularControlAffineCBF(dyn, grid=grid)\n",
    "tabular_cbf_wet.vf_table = np.array(target_values_wet[-1])"
   ]
  },
  {
   "cell_type": "code",
   "execution_count": 50,
   "metadata": {},
   "outputs": [],
   "source": [
    "# define switching conditions\n",
    "\n",
    "switch_position = 8.0\n",
    "switch_radius = .2\n",
    "switch = abs(grid.states[..., 0] - switch_position) - switch_radius\n",
    "\n",
    "# the intersection of safe dry and unsafe ice regions\n",
    "unsafe_wet_values = target_values_dry * target_values_wet\n",
    "safe_switch = jnp.maximum(switch, unsafe_wet_values[-1])\n",
    "new_obstacle = jnp.minimum(safe_switch, target_values_dry[-1])\n",
    "\n",
    "assert switch.shape == safe_switch.shape and switch.shape == new_obstacle.shape, \"Double check the shapes of switching area and new obstacles\""
   ]
  },
  {
   "cell_type": "markdown",
   "metadata": {},
   "source": [
    "# Start to refine the initial local dry CBF to be aware of safe switching"
   ]
  },
  {
   "cell_type": "code",
   "execution_count": 51,
   "metadata": {},
   "outputs": [],
   "source": [
    "# initialization using initial dry CBF\n",
    "\n",
    "refined_cbf = refine_cbfs.TabularControlAffineCBF(dyn, grid=grid)\n",
    "refined_cbf_jnp = refine_cbfs.TabularControlAffineCBF(dyn, grid=grid)\n",
    "\n",
    "refined_cbf.vf_table = np.array(target_values_dry[-1])\n",
    "refined_cbf_jnp.vf_table = target_values_dry[-1]"
   ]
  },
  {
   "cell_type": "code",
   "execution_count": 52,
   "metadata": {},
   "outputs": [
    {
     "name": "stderr",
     "output_type": "stream",
     "text": [
      "100%|##########| 10.0000/10.0 [01:40<00:00, 10.06s/sim_s]\n"
     ]
    }
   ],
   "source": [
    "# solving, takes around 2 mins on desktop\n",
    "\n",
    "solver_settings = hj.SolverSettings.with_accuracy(\"high\", value_postprocessor=backwards_reachable_tube(new_obstacle))\n",
    "init_value_refine = refined_cbf.vf_table \n",
    "target_values_refined_dry = hj.solve(solver_settings, dyn_hjr_dry, grid, times, init_value_refine)\n",
    "\n",
    "np.save(dataset_path + \"/target_values_refined_dry\"+file_name+\".npy\", target_values_refined_dry)"
   ]
  },
  {
   "cell_type": "code",
   "execution_count": 71,
   "metadata": {},
   "outputs": [],
   "source": [
    "# if you have computed values before, then just read them\n",
    "\n",
    "target_values_refined_dry = jnp.load(dataset_path + \"/target_values_refined_dry\"+file_name+\".npy\")\n",
    "\n",
    "refined_cbf_dry = refine_cbfs.TabularControlAffineCBF(dyn, grid=grid)\n",
    "refined_cbf_dry.vf_table = np.array(target_values_refined_dry[-1])"
   ]
  },
  {
   "attachments": {},
   "cell_type": "markdown",
   "metadata": {},
   "source": [
    "## Running the experiment"
   ]
  },
  {
   "cell_type": "code",
   "execution_count": 59,
   "metadata": {},
   "outputs": [],
   "source": [
    "if use_new_system:\n",
    "    x0 = np.array([2, 5, np.pi / 3, 0.]) # initial state\n",
    "else:\n",
    "    x0 = np.array([2, 4, np.pi / 3])\n",
    "    \n",
    "n_sims_per_start = 1\n",
    "t_sim = 10 * 2.0\n",
    "target_height = 4.\n",
    "mid_target_position = 10.5\n",
    "final_target_position = 12\n",
    "assert switch_position < mid_target_position, \"middle policy cannot be used since switching happends after middle target\""
   ]
  },
  {
   "attachments": {},
   "cell_type": "markdown",
   "metadata": {},
   "source": [
    "We use HJ reachability to setup the nominal controllers"
   ]
  },
  {
   "cell_type": "code",
   "execution_count": 57,
   "metadata": {},
   "outputs": [
    {
     "name": "stderr",
     "output_type": "stream",
     "text": [
      "100%|##########| 30.0000/30.0 [00:54<00:00,  1.83s/sim_s]\n"
     ]
    }
   ],
   "source": [
    "# this is a nominal control to a middle point, but we will switch dynamics before reaching it, and then change nominal controller\n",
    "# take around 1 mins on desktop\n",
    "\n",
    "target_mid = np.array([mid_target_position , target_height, 0])\n",
    "\n",
    "opt_ctrl = nominal_hjr_control.NominalControlHJNP(dyn_hjr_dry, grid, final_time=-30, time_intervals=101, solver_accuracy=\"low\", \n",
    "                                                  target=target_mid, padding=jnp.array([.2, .2, jnp.pi / 6]))\n",
    "\n",
    "opt_ctrl.solve()\n",
    "np.save(dataset_path + \"/nom_ctrl_mid\"+file_name+\".npy\", opt_ctrl.tv_vf)\n",
    "nom_policy_tar_mid = nominal_hjr_control.NominalPolicy(opt_ctrl)"
   ]
  },
  {
   "cell_type": "code",
   "execution_count": 60,
   "metadata": {},
   "outputs": [
    {
     "name": "stderr",
     "output_type": "stream",
     "text": [
      "100%|##########| 30.0000/30.0 [00:53<00:00,  1.79s/sim_s]\n"
     ]
    }
   ],
   "source": [
    "# this is a nominal controller to the final position, takes around 1 min on desktop\n",
    "\n",
    "target_final = np.array([final_target_position, target_height, 0])\n",
    "\n",
    "opt_ctrl = nominal_hjr_control.NominalControlHJNP(dyn_hjr_dry, grid, final_time=-30, time_intervals=101, solver_accuracy=\"low\", \n",
    "                                                  target=target_final, padding=jnp.array([.2, .2, jnp.pi / 6]))\n",
    "\n",
    "opt_ctrl.solve()\n",
    "np.save(dataset_path + \"/nom_ctrl_final\"+file_name+\".npy\", opt_ctrl.tv_vf)\n",
    "nom_policy_tar_final = nominal_hjr_control.NominalPolicy(opt_ctrl)"
   ]
  },
  {
   "cell_type": "code",
   "execution_count": 82,
   "metadata": {},
   "outputs": [],
   "source": [
    "# load policy data\n",
    "\n",
    "opt_ctrl_mid = nominal_hjr_control.NominalControlHJNP(dyn_hjr_dry, grid, final_time=-30, time_intervals=101, solver_accuracy=\"low\", \n",
    "                                                target=target_mid, padding=jnp.array([.2, .2, jnp.pi / 6]))\n",
    "opt_ctrl_mid.tv_vf = jnp.load(dataset_path + \"/nom_ctrl_mid\"+file_name+\".npy\")\n",
    "\n",
    "opt_ctrl_final = nominal_hjr_control.NominalControlHJNP(dyn_hjr_dry, grid, final_time=-30, time_intervals=101, solver_accuracy=\"low\", \n",
    "                                                target=target_final, padding=jnp.array([.2, .2, jnp.pi / 6]))\n",
    "opt_ctrl_final.tv_vf = jnp.load(dataset_path + \"/nom_ctrl_final\"+file_name+\".npy\")\n",
    "\n",
    "nom_policy_tar_mid = nominal_hjr_control.NominalPolicy(opt_ctrl_mid)\n",
    "nom_policy_tar_final = nominal_hjr_control.NominalPolicy(opt_ctrl_final)   "
   ]
  },
  {
   "attachments": {},
   "cell_type": "markdown",
   "metadata": {},
   "source": [
    "### Setting up the safety filter"
   ]
  },
  {
   "cell_type": "code",
   "execution_count": 83,
   "metadata": {},
   "outputs": [],
   "source": [
    "alpha = lambda x: 1. * x\n",
    "\n",
    "dubins_asif_tar_dry_mid = ControlAffineASIF(dyn, dubins_cbf_dry, alpha=alpha, nominal_policy=nom_policy_tar_mid)\n",
    "dubins_asif_ws_tar_dry_mid = ControlAffineASIF(dyn, tabular_cbf_dry, alpha=alpha, nominal_policy=nom_policy_tar_mid, umin=umin_dry, umax=umax_dry)\n",
    "\n",
    "dubins_asif_tar_dry_final = ControlAffineASIF(dyn, dubins_cbf_dry, alpha=alpha, nominal_policy=nom_policy_tar_final)\n",
    "dubins_asif_ws_tar_dry_final = ControlAffineASIF(dyn, tabular_cbf_dry, alpha=alpha, nominal_policy=nom_policy_tar_final, umin=umin_dry, umax=umax_dry)\n",
    "\n",
    "dubins_asif_tar_wet_final = ControlAffineASIF(dyn, dubins_cbf_wet, alpha=alpha, nominal_policy=nom_policy_tar_final)\n",
    "dubins_asif_ws_tar_wet_final = ControlAffineASIF(dyn, tabular_cbf_wet, alpha=alpha, nominal_policy=nom_policy_tar_final, umin=umin_wet, umax=umax_wet)\n",
    "\n",
    "# dubins_asif_global_dry = ControlAffineASIF(dyn, dubins_cbf_wet, alpha=alpha, nominal_policy=nom_policy_tar_final)\n",
    "# dubins_asif_ws_global_dry = ControlAffineASIF(dyn, tabular_cbf_wet, alpha=alpha, nominal_policy=nom_policy_tar_final, umin=umin_dry, umax=umax_dry)\n",
    "\n",
    "# dubins_asif_global_wet = ControlAffineASIF(dyn, dubins_cbf_wet, alpha=alpha, nominal_policy=nom_policy_tar_final)\n",
    "# dubins_asif_ws_global_wet = ControlAffineASIF(dyn, tabular_cbf_wet, alpha=alpha, nominal_policy=nom_policy_tar_final, umin=umin_wet, umax=umax_wet)\n",
    "\n",
    "dubins_asif_ws_refined_mid = ControlAffineASIF(dyn, refined_cbf_dry, alpha=alpha, nominal_policy=nom_policy_tar_mid, umin=umin_dry, umax=umax_dry)\n"
   ]
  },
  {
   "attachments": {},
   "cell_type": "markdown",
   "metadata": {},
   "source": [
    "### Rollout different CBFs / nominal controller"
   ]
  },
  {
   "cell_type": "code",
   "execution_count": null,
   "metadata": {},
   "outputs": [],
   "source": [
    "experiment = RolloutTrajectory('dubins', start_x=x0, n_sims_per_start=n_sims_per_start, t_sim=t_sim)\n",
    "use_hybrid_mode = True\n",
    "\n",
    "# run the results, takes around 5 mins on desktop\n",
    "\n",
    "logging.getLogger('cbf_opt').setLevel(level=logging.ERROR)  # Surpresses warnings\n",
    "\n",
    "results_df_hybrid, jump_state, traj_all = experiment.run_hybrid_dubins(dyn, \n",
    "                                                                       {'Nominal': nom_policy_tar_mid, \n",
    "                                                                        'Baseline': dubins_asif_ws_tar_dry_mid, \n",
    "                                                                        'Refined': dubins_asif_ws_refined_mid}, \n",
    "                                                                       {'Nominal': nom_policy_tar_final, \n",
    "                                                                        'Baseline': dubins_asif_ws_tar_wet_final, \n",
    "                                                                        'Refined': dubins_asif_ws_tar_wet_final}, \n",
    "                                                                        switch_position)\n",
    "results_df = results_df_hybrid.copy()"
   ]
  },
  {
   "attachments": {},
   "cell_type": "markdown",
   "metadata": {},
   "source": [
    "### Visualizing the results"
   ]
  },
  {
   "cell_type": "code",
   "execution_count": 85,
   "metadata": {},
   "outputs": [],
   "source": [
    "ts_experiment = TimeSeriesExperiment('dubins', start_x=x0, n_sims_per_start=n_sims_per_start, t_sim=t_sim)\n",
    "ss_experiment = StateSpaceExperiment('dubins', x_indices=[0, 1], start_x=x0, n_sims_per_start=n_sims_per_start, t_sim=t_sim)"
   ]
  },
  {
   "cell_type": "code",
   "execution_count": 86,
   "metadata": {},
   "outputs": [],
   "source": [
    "updated_df = results_df.copy()\n",
    "for ctrl in updated_df.controller.unique():\n",
    "    df = updated_df[(updated_df.controller == ctrl) & (updated_df.measurement == 'dist_to_goal')]\n",
    "    min_val = df.value.min()\n",
    "    t_min = df.t.loc[df.value == df.value.min()].values[0]\n",
    "    condition = updated_df[(updated_df.controller == ctrl) & (updated_df.t > t_min)]\n",
    "    updated_df = updated_df.drop(condition.index)\n",
    "updated_df = updated_df.reset_index(drop=True)"
   ]
  },
  {
   "attachments": {},
   "cell_type": "markdown",
   "metadata": {},
   "source": [
    "### Figure in paper"
   ]
  },
  {
   "cell_type": "code",
   "execution_count": 87,
   "metadata": {},
   "outputs": [],
   "source": [
    "colors = sns.color_palette(\"tab10\")\n",
    "chosen_colors = [(0.5, 0.5, 0.5)]\n",
    "chosen_colors.append(colors[0])\n",
    "chosen_colors.append(colors[1])\n",
    "chosen_colors.append((0.2, 0.2, 0.2))\n",
    "chosen_colors.append((0.7, 0.7, 0.7))\n",
    "\n",
    "colors = [(0.3, 0.3, 0.3)]\n",
    "colors += [(sns.color_palette(\"RdYlGn_r\", 7)[0])]\n",
    "colors += [(sns.color_palette(\"RdYlGn_r\", 9)[6])]\n",
    "colors += [(sns.color_palette(\"RdYlGn_r\", 9)[8])]\n",
    "colors += [(4 / 255, 101 / 255, 4 / 255)]\n",
    "\n",
    "alt_colors = sns.color_palette(\"pastel\", 9).as_hex()"
   ]
  },
  {
   "cell_type": "code",
   "execution_count": 88,
   "metadata": {},
   "outputs": [],
   "source": [
    "save_figure = True\n",
    "offset = 0\n",
    "\n",
    "# to visualize switching areas\n",
    "surface_values = target_values_hjr_dry[-1][..., offset]\n",
    "index_switch = int((switch_position - low_bound) / (upp_bound - low_bound) * resolution_bound)\n",
    "rest_index = resolution_bound - index_switch\n",
    "surface_values = jnp.concatenate((- jnp.ones((resolution_bound, index_switch)), jnp.ones((resolution_bound, rest_index))), axis=1)"
   ]
  },
  {
   "cell_type": "code",
   "execution_count": 90,
   "metadata": {},
   "outputs": [
    {
     "data": {
      "image/png": "[encoded data removed]",
      "text/plain": [
       "<Figure size 1200x800 with 1 Axes>"
      ]
     },
     "metadata": {},
     "output_type": "display_data"
    }
   ],
   "source": [
    "fig_comb, axs = plt.subplots(1, 1, figsize=(12, 8), sharey=True)\n",
    "proxy = [] \n",
    "ax=axs\n",
    "\n",
    "cs = ax.contourf(grid.coordinate_vectors[1], grid.coordinate_vectors[0], obstacle_all[..., offset, offset].T, \n",
    "                 levels=[-10, 0], alpha=0.3, colors='grey')\n",
    "ax.contour(grid.coordinate_vectors[1], grid.coordinate_vectors[0], obstacle_all[..., offset, offset].T, \n",
    "           levels=[0], alpha=0.6, colors='grey', linewidths=2)\n",
    "cs = ax.contourf(grid.coordinate_vectors[1], grid.coordinate_vectors[0], surface_values, \n",
    "                 levels=[0, 50], colors=alt_colors[2], alpha=0.3)\n",
    "\n",
    "ax.grid()\n",
    "ax.set_xlabel(\"$x$ [m]\")\n",
    "ax.set_ylabel('$y$ [m]')\n",
    "ax.set_xlim([0, 15])\n",
    "ax.set_ylim([0, 10])\n",
    "ax = axs\n",
    "ss_experiment.plot(dyn, updated_df, ax=ax, color=chosen_colors, add_direction=False)\n",
    "ax.grid(True)\n",
    "ax.set_xlim([0, 15])\n",
    "ax.set_ylim([0, 10])\n",
    "pal = sns.color_palette(\"colorblind\")\n",
    "sns.set_palette(\"colorblind\")\n",
    "\n",
    "l1 = ax.plot(x0[0], x0[1], 'x', markersize=25, mew=5, color='grey')\n",
    "l2 = ax.plot(opt_ctrl_final.target[0], opt_ctrl_final.target[1], 'o', markersize=25, color='grey', alpha=1)\n",
    "miscs = [l1, l2]\n",
    "ax.contourf(grid.coordinate_vectors[1], grid.coordinate_vectors[0], obstacle_all[..., 0, 0].T, levels=[-10, 0], \n",
    "            colors='grey', alpha=.3)\n",
    "ax.contour(grid.coordinate_vectors[1], grid.coordinate_vectors[0], obstacle_all[..., 0, 0].T, levels=[0], \n",
    "           colors='grey', alpha=.6, linewidths=2)\n",
    "ax.set_ylabel(\"$y$ [m]\")\n",
    "ax.set_xlabel(\"$x$ [m]\")\n",
    "\n",
    "leg = ax.legend([misc[0] for misc in miscs], ['Start', 'Goal'], ncol=2, bbox_to_anchor=[.5, 0.05], loc='center', \n",
    "                    frameon=True, handletextpad=0.6)\n",
    "ax.legend([ax.lines[0], ax.lines[3], ax.lines[6]], [\"Nominal controller\", \"Switch-unaware CBF\", \"Switch-aware CBF (ours)\"], \n",
    "               fontsize=\"22\", bbox_to_anchor=[.36, 0.89], ncol=1, columnspacing=0.5, handletextpad=1.0, loc='center', frameon=True)\n",
    "ax.add_artist(leg)\n",
    "ax.contourf(grid.coordinate_vectors[1], grid.coordinate_vectors[0], surface_values, \n",
    "                 levels=[0, 50], colors=alt_colors[2], alpha=0.3)\n",
    "\n",
    "fig_comb.tight_layout()\n",
    "plt.subplots_adjust(wspace=0.05, hspace=0)\n",
    "\n",
    "results_path = '../paper_results'\n",
    "\n",
    "if save_figure:\n",
    "    plt.savefig(results_path + \"/dubins.png\", dpi=400, bbox_inches='tight')\n"
   ]
  },
  {
   "cell_type": "code",
   "execution_count": null,
   "metadata": {},
   "outputs": [],
   "source": []
  }
 ],
 "metadata": {
  "kernelspec": {
   "display_name": "Python 3.8.13 ('refine_cbf')",
   "language": "python",
   "name": "python3"
  },
  "language_info": {
   "codemirror_mode": {
    "name": "ipython",
    "version": 3
   },
   "file_extension": ".py",
   "mimetype": "text/x-python",
   "name": "python",
   "nbconvert_exporter": "python",
   "pygments_lexer": "ipython3",
   "version": "3.10.12"
  },
  "vscode": {
   "interpreter": {
    "hash": "817647b86e70f13476c612841a53261b77d8bded203e176d956e3e918f8a40e2"
   }
  }
 },
 "nbformat": 4,
 "nbformat_minor": 4
}
